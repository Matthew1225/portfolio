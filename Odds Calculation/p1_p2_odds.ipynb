{
 "cells": [
  {
   "cell_type": "code",
   "execution_count": 1,
   "id": "c46cb1f6",
   "metadata": {},
   "outputs": [],
   "source": [
    "import random\n",
    "import numpy as np\n",
    "\n",
    "from collections import Counter"
   ]
  },
  {
   "cell_type": "code",
   "execution_count": 2,
   "id": "878e4599",
   "metadata": {},
   "outputs": [],
   "source": [
    "P1_START = 0\n",
    "P2_START = 0\n",
    "FINISH = 10\n",
    "ITER = 1000000\n",
    "\n",
    "P1_MOVES, P2_MOVES = [1, 3, 5], [2, 4, 6]"
   ]
  },
  {
   "cell_type": "code",
   "execution_count": 3,
   "id": "eb4ebe77",
   "metadata": {},
   "outputs": [],
   "source": [
    "def play_game(p1_moves=P1_MOVES, p2_moves=P2_MOVES):\n",
    "    p1_score, p2_score = P1_START, P2_START\n",
    "    \n",
    "    while True:\n",
    "        move = random.randint(1, 6)\n",
    "        \n",
    "        if move in p1_moves:\n",
    "            p1_score += move\n",
    "        elif move in p2_moves:\n",
    "            p2_score += move\n",
    "            \n",
    "        if p1_score >= FINISH or p2_score >= FINISH:\n",
    "            break\n",
    "    return {\n",
    "        'player_1': p1_score, \n",
    "        'player_2': p2_score \n",
    "    }"
   ]
  },
  {
   "cell_type": "code",
   "execution_count": 4,
   "id": "47846bf9",
   "metadata": {},
   "outputs": [],
   "source": [
    "def simulate_game_n_times(n=ITER):\n",
    "    p1_wins, p2_wins = 0, 0\n",
    "    \n",
    "    for _ in range(n):\n",
    "        game_res = play_game()\n",
    "        \n",
    "        if game_res['player_1'] > game_res['player_2']:\n",
    "            p1_wins += 1\n",
    "        else:\n",
    "            p2_wins += 1\n",
    "    return {\n",
    "        'p1_wins': p1_wins,\n",
    "        'p2_wins': p2_wins\n",
    "    }"
   ]
  },
  {
   "cell_type": "code",
   "execution_count": 5,
   "id": "93f5d022",
   "metadata": {},
   "outputs": [
    {
     "name": "stdout",
     "output_type": "stream",
     "text": [
      "Probability of winnings for P1 and P2 in accordance:\n",
      "36.319%, 63.681%\n",
      "CPU times: total: 5.16 s\n",
      "Wall time: 5.15 s\n"
     ]
    }
   ],
   "source": [
    "%%time\n",
    "sim_res = simulate_game_n_times()\n",
    "\n",
    "print(\"Probability of winnings for P1 and P2 in accordance:\")\n",
    "print(f\"{round(sim_res['p1_wins'] / ITER * 100, 3)}%, {round(sim_res['p2_wins'] / ITER * 100, 3)}%\")"
   ]
  },
  {
   "cell_type": "code",
   "execution_count": 6,
   "id": "48e5a57a",
   "metadata": {},
   "outputs": [],
   "source": [
    "p1_probs = sim_res['p1_wins'] / ITER\n",
    "p2_probs = sim_res['p2_wins'] / ITER"
   ]
  },
  {
   "cell_type": "code",
   "execution_count": 7,
   "id": "58944e54",
   "metadata": {},
   "outputs": [],
   "source": [
    "def calculate_ha_odds(p1_prob, p2_prob, margin=0.05):\n",
    "    return {\n",
    "        'p1_pure_odd': 1 / p1_prob,\n",
    "        'p1_margin_odd': (1 - margin) / p1_prob,\n",
    "        'p2_pure_odd': 1 / p2_prob,\n",
    "        'p2_margin_odd': (1 - margin) / p2_prob\n",
    "    }"
   ]
  },
  {
   "cell_type": "code",
   "execution_count": 8,
   "id": "f579a9d0",
   "metadata": {},
   "outputs": [],
   "source": [
    "odds = calculate_ha_odds(p1_probs, p2_probs, margin=0.1)"
   ]
  },
  {
   "cell_type": "code",
   "execution_count": 9,
   "id": "c7fc870f",
   "metadata": {},
   "outputs": [
    {
     "data": {
      "text/plain": [
       "{'p1_pure_odd': 2.7533797736721826,\n",
       " 'p1_margin_odd': 2.4780417963049644,\n",
       " 'p2_pure_odd': 1.5703270991347498,\n",
       " 'p2_margin_odd': 1.4132943892212748}"
      ]
     },
     "execution_count": 9,
     "metadata": {},
     "output_type": "execute_result"
    }
   ],
   "source": [
    "odds"
   ]
  },
  {
   "cell_type": "code",
   "execution_count": 10,
   "id": "f5d14a4b",
   "metadata": {},
   "outputs": [],
   "source": [
    "def get_scores_probs_c(n=ITER):\n",
    "    all_res = []\n",
    "    \n",
    "    for _ in range(n):\n",
    "        game_res = play_game()\n",
    "        all_res.append(tuple(game_res.values()))\n",
    "    \n",
    "    res = Counter(all_res)\n",
    "    return {key: value / n for key, value in res.items()}"
   ]
  },
  {
   "cell_type": "code",
   "execution_count": 11,
   "id": "2b95469e",
   "metadata": {},
   "outputs": [
    {
     "data": {
      "text/plain": [
       "{(1, 10): 0.034357,\n",
       " (9, 12): 0.014933,\n",
       " (13, 8): 0.008534,\n",
       " (5, 12): 0.0287,\n",
       " (11, 0): 0.025072,\n",
       " (14, 6): 0.007979,\n",
       " (4, 14): 0.00623,\n",
       " (11, 4): 0.017764,\n",
       " (10, 6): 0.031596,\n",
       " (0, 12): 0.053994,\n",
       " (4, 12): 0.014722,\n",
       " (5, 10): 0.04229,\n",
       " (12, 4): 0.010075,\n",
       " (10, 0): 0.040781,\n",
       " (13, 6): 0.010634,\n",
       " (5, 14): 0.01111,\n",
       " (6, 10): 0.033227,\n",
       " (3, 10): 0.03747,\n",
       " (0, 10): 0.086612,\n",
       " (2, 12): 0.007208,\n",
       " (10, 8): 0.023721,\n",
       " (6, 12): 0.023029,\n",
       " (1, 12): 0.022947,\n",
       " (11, 6): 0.023836,\n",
       " (8, 10): 0.026795,\n",
       " (10, 4): 0.023793,\n",
       " (11, 2): 0.013157,\n",
       " (12, 6): 0.014331,\n",
       " (2, 10): 0.010268,\n",
       " (14, 0): 0.005692,\n",
       " (7, 12): 0.011832,\n",
       " (13, 2): 0.005579,\n",
       " (4, 10): 0.020932,\n",
       " (14, 8): 0.007065,\n",
       " (6, 14): 0.009946,\n",
       " (10, 2): 0.017965,\n",
       " (14, 2): 0.003946,\n",
       " (9, 10): 0.02041,\n",
       " (12, 2): 0.007155,\n",
       " (7, 10): 0.01656,\n",
       " (3, 14): 0.009494,\n",
       " (1, 14): 0.008553,\n",
       " (12, 8): 0.012708,\n",
       " (13, 0): 0.010375,\n",
       " (8, 12): 0.019092,\n",
       " (3, 12): 0.024982,\n",
       " (11, 8): 0.018657,\n",
       " (8, 14): 0.008282,\n",
       " (12, 0): 0.010398,\n",
       " (13, 4): 0.007803,\n",
       " (0, 14): 0.016357,\n",
       " (2, 14): 0.002985,\n",
       " (9, 14): 0.006902,\n",
       " (14, 4): 0.005672,\n",
       " (7, 14): 0.005493}"
      ]
     },
     "execution_count": 11,
     "metadata": {},
     "output_type": "execute_result"
    }
   ],
   "source": [
    "probs_c = get_scores_probs_c()\n",
    "probs_c"
   ]
  },
  {
   "cell_type": "code",
   "execution_count": 12,
   "id": "99dfd4b9",
   "metadata": {},
   "outputs": [],
   "source": [
    "def get_scores_probs_np(n=ITER):\n",
    "    total_res = np.zeros((15, 15))\n",
    "    for _ in range(n):\n",
    "        game_res = play_game()\n",
    "        total_res[game_res['player_1'], game_res['player_2']] += 1\n",
    "    return total_res / total_res.sum()"
   ]
  },
  {
   "cell_type": "code",
   "execution_count": 13,
   "id": "96865dc8",
   "metadata": {},
   "outputs": [],
   "source": [
    "probs = get_scores_probs_np()"
   ]
  },
  {
   "cell_type": "code",
   "execution_count": 14,
   "id": "c7ec68e8",
   "metadata": {
    "scrolled": true
   },
   "outputs": [
    {
     "data": {
      "text/plain": [
       "array([[0.      , 0.      , 0.      , 0.      , 0.      , 0.      ,\n",
       "        0.      , 0.      , 0.      , 0.      , 0.086659, 0.      ,\n",
       "        0.053714, 0.      , 0.016188],\n",
       "       [0.      , 0.      , 0.      , 0.      , 0.      , 0.      ,\n",
       "        0.      , 0.      , 0.      , 0.      , 0.034903, 0.      ,\n",
       "        0.023128, 0.      , 0.00853 ],\n",
       "       [0.      , 0.      , 0.      , 0.      , 0.      , 0.      ,\n",
       "        0.      , 0.      , 0.      , 0.      , 0.010007, 0.      ,\n",
       "        0.007106, 0.      , 0.003029],\n",
       "       [0.      , 0.      , 0.      , 0.      , 0.      , 0.      ,\n",
       "        0.      , 0.      , 0.      , 0.      , 0.036699, 0.      ,\n",
       "        0.025104, 0.      , 0.009485],\n",
       "       [0.      , 0.      , 0.      , 0.      , 0.      , 0.      ,\n",
       "        0.      , 0.      , 0.      , 0.      , 0.02105 , 0.      ,\n",
       "        0.014633, 0.      , 0.006251],\n",
       "       [0.      , 0.      , 0.      , 0.      , 0.      , 0.      ,\n",
       "        0.      , 0.      , 0.      , 0.      , 0.042794, 0.      ,\n",
       "        0.028727, 0.      , 0.011269],\n",
       "       [0.      , 0.      , 0.      , 0.      , 0.      , 0.      ,\n",
       "        0.      , 0.      , 0.      , 0.      , 0.033078, 0.      ,\n",
       "        0.023078, 0.      , 0.009922],\n",
       "       [0.      , 0.      , 0.      , 0.      , 0.      , 0.      ,\n",
       "        0.      , 0.      , 0.      , 0.      , 0.016442, 0.      ,\n",
       "        0.011998, 0.      , 0.005647],\n",
       "       [0.      , 0.      , 0.      , 0.      , 0.      , 0.      ,\n",
       "        0.      , 0.      , 0.      , 0.      , 0.026657, 0.      ,\n",
       "        0.019109, 0.      , 0.008501],\n",
       "       [0.      , 0.      , 0.      , 0.      , 0.      , 0.      ,\n",
       "        0.      , 0.      , 0.      , 0.      , 0.020372, 0.      ,\n",
       "        0.014841, 0.      , 0.007084],\n",
       "       [0.040016, 0.      , 0.017991, 0.      , 0.023836, 0.      ,\n",
       "        0.03189 , 0.      , 0.023862, 0.      , 0.      , 0.      ,\n",
       "        0.      , 0.      , 0.      ],\n",
       "       [0.024741, 0.      , 0.01318 , 0.      , 0.017756, 0.      ,\n",
       "        0.023944, 0.      , 0.018547, 0.      , 0.      , 0.      ,\n",
       "        0.      , 0.      , 0.      ],\n",
       "       [0.010608, 0.      , 0.007147, 0.      , 0.010322, 0.      ,\n",
       "        0.014201, 0.      , 0.012505, 0.      , 0.      , 0.      ,\n",
       "        0.      , 0.      , 0.      ],\n",
       "       [0.01056 , 0.      , 0.005839, 0.      , 0.007628, 0.      ,\n",
       "        0.010593, 0.      , 0.008389, 0.      , 0.      , 0.      ,\n",
       "        0.      , 0.      , 0.      ],\n",
       "       [0.005781, 0.      , 0.003914, 0.      , 0.005907, 0.      ,\n",
       "        0.00785 , 0.      , 0.006988, 0.      , 0.      , 0.      ,\n",
       "        0.      , 0.      , 0.      ]])"
      ]
     },
     "execution_count": 14,
     "metadata": {},
     "output_type": "execute_result"
    }
   ],
   "source": [
    "probs"
   ]
  },
  {
   "cell_type": "code",
   "execution_count": 15,
   "id": "e775da8b",
   "metadata": {},
   "outputs": [],
   "source": [
    "def ha_odds(probs, margin=0.05):\n",
    "    p1_probs = probs[10:, :].sum()\n",
    "    p2_probs = 1 - p1_probs\n",
    "    payout_ratio = 1 - margin\n",
    "    return {\n",
    "        'p1_odd': payout_ratio / p1_probs,\n",
    "        'p2_odd': payout_ratio / p2_probs\n",
    "    }"
   ]
  },
  {
   "cell_type": "code",
   "execution_count": 16,
   "id": "e54a54d9",
   "metadata": {},
   "outputs": [
    {
     "data": {
      "text/plain": [
       "{'p1_odd': 2.6099259605214353, 'p2_odd': 1.4936989489076344}"
      ]
     },
     "execution_count": 16,
     "metadata": {},
     "output_type": "execute_result"
    }
   ],
   "source": [
    "ha_odds(probs)"
   ]
  },
  {
   "cell_type": "code",
   "execution_count": 17,
   "id": "9b5fa015",
   "metadata": {},
   "outputs": [
    {
     "data": {
      "text/plain": [
       "array([[0.      , 0.      , 0.      , 0.      , 0.      , 0.      ,\n",
       "        0.      , 0.      , 0.      , 0.      , 0.086659, 0.      ,\n",
       "        0.053714, 0.      , 0.016188],\n",
       "       [0.      , 0.      , 0.      , 0.      , 0.      , 0.      ,\n",
       "        0.      , 0.      , 0.      , 0.      , 0.034903, 0.      ,\n",
       "        0.023128, 0.      , 0.00853 ],\n",
       "       [0.      , 0.      , 0.      , 0.      , 0.      , 0.      ,\n",
       "        0.      , 0.      , 0.      , 0.      , 0.010007, 0.      ,\n",
       "        0.007106, 0.      , 0.003029],\n",
       "       [0.      , 0.      , 0.      , 0.      , 0.      , 0.      ,\n",
       "        0.      , 0.      , 0.      , 0.      , 0.036699, 0.      ,\n",
       "        0.025104, 0.      , 0.009485],\n",
       "       [0.      , 0.      , 0.      , 0.      , 0.      , 0.      ,\n",
       "        0.      , 0.      , 0.      , 0.      , 0.02105 , 0.      ,\n",
       "        0.014633, 0.      , 0.006251],\n",
       "       [0.      , 0.      , 0.      , 0.      , 0.      , 0.      ,\n",
       "        0.      , 0.      , 0.      , 0.      , 0.042794, 0.      ,\n",
       "        0.028727, 0.      , 0.011269],\n",
       "       [0.      , 0.      , 0.      , 0.      , 0.      , 0.      ,\n",
       "        0.      , 0.      , 0.      , 0.      , 0.033078, 0.      ,\n",
       "        0.023078, 0.      , 0.009922],\n",
       "       [0.      , 0.      , 0.      , 0.      , 0.      , 0.      ,\n",
       "        0.      , 0.      , 0.      , 0.      , 0.016442, 0.      ,\n",
       "        0.011998, 0.      , 0.005647],\n",
       "       [0.      , 0.      , 0.      , 0.      , 0.      , 0.      ,\n",
       "        0.      , 0.      , 0.      , 0.      , 0.026657, 0.      ,\n",
       "        0.019109, 0.      , 0.008501],\n",
       "       [0.      , 0.      , 0.      , 0.      , 0.      , 0.      ,\n",
       "        0.      , 0.      , 0.      , 0.      , 0.020372, 0.      ,\n",
       "        0.014841, 0.      , 0.007084],\n",
       "       [0.040016, 0.      , 0.017991, 0.      , 0.023836, 0.      ,\n",
       "        0.03189 , 0.      , 0.023862, 0.      , 0.      , 0.      ,\n",
       "        0.      , 0.      , 0.      ],\n",
       "       [0.024741, 0.      , 0.01318 , 0.      , 0.017756, 0.      ,\n",
       "        0.023944, 0.      , 0.018547, 0.      , 0.      , 0.      ,\n",
       "        0.      , 0.      , 0.      ],\n",
       "       [0.010608, 0.      , 0.007147, 0.      , 0.010322, 0.      ,\n",
       "        0.014201, 0.      , 0.012505, 0.      , 0.      , 0.      ,\n",
       "        0.      , 0.      , 0.      ],\n",
       "       [0.01056 , 0.      , 0.005839, 0.      , 0.007628, 0.      ,\n",
       "        0.010593, 0.      , 0.008389, 0.      , 0.      , 0.      ,\n",
       "        0.      , 0.      , 0.      ],\n",
       "       [0.005781, 0.      , 0.003914, 0.      , 0.005907, 0.      ,\n",
       "        0.00785 , 0.      , 0.006988, 0.      , 0.      , 0.      ,\n",
       "        0.      , 0.      , 0.      ]])"
      ]
     },
     "execution_count": 17,
     "metadata": {},
     "output_type": "execute_result"
    }
   ],
   "source": [
    "probs"
   ]
  },
  {
   "cell_type": "code",
   "execution_count": 18,
   "id": "7b6b79e5",
   "metadata": {},
   "outputs": [],
   "source": [
    "def ou_odds(\n",
    "    probs: np.array,\n",
    "    param: float, \n",
    "    margin=0.05\n",
    ") -> dict:\n",
    "    '''\n",
    "    Function docs are starting here ...\n",
    "    '''\n",
    "    idx = int(param) + 1\n",
    "    \n",
    "    payout_ratio = 1 - margin\n",
    "    return {\n",
    "        'p1_odd_over': payout_ratio / probs[idx:, :].sum(),\n",
    "        'p1_odd_under': payout_ratio / probs[:idx, :].sum(),\n",
    "        'p2_odd_over': payout_ratio / probs[:, idx:].sum(),\n",
    "        'p2_odd_under': payout_ratio / probs[:, :idx].sum()\n",
    "    }    "
   ]
  },
  {
   "cell_type": "code",
   "execution_count": 19,
   "id": "b4eb98df",
   "metadata": {},
   "outputs": [
    {
     "data": {
      "text/plain": [
       "'\\n    Function docs are starting here ...\\n    '"
      ]
     },
     "execution_count": 19,
     "metadata": {},
     "output_type": "execute_result"
    }
   ],
   "source": [
    "ou_odds.__doc__"
   ]
  },
  {
   "cell_type": "code",
   "execution_count": 20,
   "id": "2c05cb0e",
   "metadata": {},
   "outputs": [
    {
     "data": {
      "text/plain": [
       "{'p1_odd_over': 1.4762693585531936,\n",
       " 'p1_odd_under': 2.6649012864460313,\n",
       " 'p2_odd_over': 1.1953083518081868,\n",
       " 'p2_odd_under': 4.629043103700311}"
      ]
     },
     "execution_count": 20,
     "metadata": {},
     "output_type": "execute_result"
    }
   ],
   "source": [
    "ou_odds(probs=probs, param=4.5)"
   ]
  },
  {
   "cell_type": "code",
   "execution_count": 21,
   "id": "ed8371d9",
   "metadata": {},
   "outputs": [],
   "source": [
    "def both_players_to_score_odd(\n",
    "    probs: np.array, \n",
    "    margin=0.05):\n",
    "    \n",
    "    payout_ratio = 1 - margin\n",
    "    \n",
    "    return {\n",
    "        'Odd for both players to score:': payout_ratio / (1 - (probs[0, :].sum() + probs[:, 0].sum()))\n",
    "    }\n",
    "    "
   ]
  },
  {
   "cell_type": "code",
   "execution_count": 22,
   "id": "f907172f",
   "metadata": {},
   "outputs": [
    {
     "data": {
      "text/plain": [
       "{'Odd for both players to score:': 1.2637465695931933}"
      ]
     },
     "execution_count": 22,
     "metadata": {},
     "output_type": "execute_result"
    }
   ],
   "source": [
    "both_players_to_score_odd(probs)"
   ]
  },
  {
   "cell_type": "code",
   "execution_count": 23,
   "id": "50de7237",
   "metadata": {},
   "outputs": [],
   "source": [
    "def player_n_has_no_score_odd(\n",
    "    probs: np.array, \n",
    "    margin=0.05):\n",
    "    \n",
    "    payout_ratio = 1 - margin \n",
    "\n",
    "    return {\n",
    "        'Player 1 has no score odd:': payout_ratio / (probs[0, :].sum()),\n",
    "        'Player 2 has no score odd:': payout_ratio / (probs[:, 0].sum())\n",
    "    }\n",
    "    "
   ]
  },
  {
   "cell_type": "code",
   "execution_count": 24,
   "id": "d231d628",
   "metadata": {},
   "outputs": [
    {
     "data": {
      "text/plain": [
       "{'Player 1 has no score odd:': 6.067922407240628,\n",
       " 'Player 2 has no score odd:': 10.359191328811635}"
      ]
     },
     "execution_count": 24,
     "metadata": {},
     "output_type": "execute_result"
    }
   ],
   "source": [
    "player_n_has_no_score_odd(probs)"
   ]
  },
  {
   "cell_type": "code",
   "execution_count": 37,
   "id": "2bc2cd31",
   "metadata": {},
   "outputs": [
    {
     "data": {
      "text/plain": [
       "array([[ 0,  1,  2,  3,  4,  5,  6,  7,  8,  9, 10, 11, 12, 13, 14],\n",
       "       [ 0,  1,  2,  3,  4,  5,  6,  7,  8,  9, 10, 11, 12, 13, 14],\n",
       "       [ 0,  1,  2,  3,  4,  5,  6,  7,  8,  9, 10, 11, 12, 13, 14],\n",
       "       [ 0,  1,  2,  3,  4,  5,  6,  7,  8,  9, 10, 11, 12, 13, 14],\n",
       "       [ 0,  1,  2,  3,  4,  5,  6,  7,  8,  9, 10, 11, 12, 13, 14],\n",
       "       [ 0,  1,  2,  3,  4,  5,  6,  7,  8,  9, 10, 11, 12, 13, 14],\n",
       "       [ 0,  1,  2,  3,  4,  5,  6,  7,  8,  9, 10, 11, 12, 13, 14],\n",
       "       [ 0,  1,  2,  3,  4,  5,  6,  7,  8,  9, 10, 11, 12, 13, 14],\n",
       "       [ 0,  1,  2,  3,  4,  5,  6,  7,  8,  9, 10, 11, 12, 13, 14],\n",
       "       [ 0,  1,  2,  3,  4,  5,  6,  7,  8,  9, 10, 11, 12, 13, 14],\n",
       "       [ 0,  1,  2,  3,  4,  5,  6,  7,  8,  9, 10, 11, 12, 13, 14],\n",
       "       [ 0,  1,  2,  3,  4,  5,  6,  7,  8,  9, 10, 11, 12, 13, 14],\n",
       "       [ 0,  1,  2,  3,  4,  5,  6,  7,  8,  9, 10, 11, 12, 13, 14],\n",
       "       [ 0,  1,  2,  3,  4,  5,  6,  7,  8,  9, 10, 11, 12, 13, 14],\n",
       "       [ 0,  1,  2,  3,  4,  5,  6,  7,  8,  9, 10, 11, 12, 13, 14]])"
      ]
     },
     "execution_count": 37,
     "metadata": {},
     "output_type": "execute_result"
    }
   ],
   "source": [
    "cols = np.tile(np.array(range(15)), 15).reshape(15, 15)\n",
    "cols"
   ]
  },
  {
   "cell_type": "code",
   "execution_count": 39,
   "id": "6688543c",
   "metadata": {},
   "outputs": [
    {
     "data": {
      "text/plain": [
       "array([[ 0,  0,  0,  0,  0,  0,  0,  0,  0,  0,  0,  0,  0,  0,  0],\n",
       "       [ 1,  1,  1,  1,  1,  1,  1,  1,  1,  1,  1,  1,  1,  1,  1],\n",
       "       [ 2,  2,  2,  2,  2,  2,  2,  2,  2,  2,  2,  2,  2,  2,  2],\n",
       "       [ 3,  3,  3,  3,  3,  3,  3,  3,  3,  3,  3,  3,  3,  3,  3],\n",
       "       [ 4,  4,  4,  4,  4,  4,  4,  4,  4,  4,  4,  4,  4,  4,  4],\n",
       "       [ 5,  5,  5,  5,  5,  5,  5,  5,  5,  5,  5,  5,  5,  5,  5],\n",
       "       [ 6,  6,  6,  6,  6,  6,  6,  6,  6,  6,  6,  6,  6,  6,  6],\n",
       "       [ 7,  7,  7,  7,  7,  7,  7,  7,  7,  7,  7,  7,  7,  7,  7],\n",
       "       [ 8,  8,  8,  8,  8,  8,  8,  8,  8,  8,  8,  8,  8,  8,  8],\n",
       "       [ 9,  9,  9,  9,  9,  9,  9,  9,  9,  9,  9,  9,  9,  9,  9],\n",
       "       [10, 10, 10, 10, 10, 10, 10, 10, 10, 10, 10, 10, 10, 10, 10],\n",
       "       [11, 11, 11, 11, 11, 11, 11, 11, 11, 11, 11, 11, 11, 11, 11],\n",
       "       [12, 12, 12, 12, 12, 12, 12, 12, 12, 12, 12, 12, 12, 12, 12],\n",
       "       [13, 13, 13, 13, 13, 13, 13, 13, 13, 13, 13, 13, 13, 13, 13],\n",
       "       [14, 14, 14, 14, 14, 14, 14, 14, 14, 14, 14, 14, 14, 14, 14]])"
      ]
     },
     "execution_count": 39,
     "metadata": {},
     "output_type": "execute_result"
    }
   ],
   "source": [
    "rows = np.repeat(np.array(range(15)), 15).reshape(15, 15)\n",
    "rows"
   ]
  },
  {
   "cell_type": "code",
   "execution_count": 44,
   "id": "b25c8504",
   "metadata": {},
   "outputs": [
    {
     "data": {
      "text/plain": [
       "array([[  0,   1,   2,   3,   4,   5,   6,   7,   8,   9,  10,  11,  12,\n",
       "         13,  14],\n",
       "       [ -1,   0,   1,   2,   3,   4,   5,   6,   7,   8,   9,  10,  11,\n",
       "         12,  13],\n",
       "       [ -2,  -1,   0,   1,   2,   3,   4,   5,   6,   7,   8,   9,  10,\n",
       "         11,  12],\n",
       "       [ -3,  -2,  -1,   0,   1,   2,   3,   4,   5,   6,   7,   8,   9,\n",
       "         10,  11],\n",
       "       [ -4,  -3,  -2,  -1,   0,   1,   2,   3,   4,   5,   6,   7,   8,\n",
       "          9,  10],\n",
       "       [ -5,  -4,  -3,  -2,  -1,   0,   1,   2,   3,   4,   5,   6,   7,\n",
       "          8,   9],\n",
       "       [ -6,  -5,  -4,  -3,  -2,  -1,   0,   1,   2,   3,   4,   5,   6,\n",
       "          7,   8],\n",
       "       [ -7,  -6,  -5,  -4,  -3,  -2,  -1,   0,   1,   2,   3,   4,   5,\n",
       "          6,   7],\n",
       "       [ -8,  -7,  -6,  -5,  -4,  -3,  -2,  -1,   0,   1,   2,   3,   4,\n",
       "          5,   6],\n",
       "       [ -9,  -8,  -7,  -6,  -5,  -4,  -3,  -2,  -1,   0,   1,   2,   3,\n",
       "          4,   5],\n",
       "       [-10,  -9,  -8,  -7,  -6,  -5,  -4,  -3,  -2,  -1,   0,   1,   2,\n",
       "          3,   4],\n",
       "       [-11, -10,  -9,  -8,  -7,  -6,  -5,  -4,  -3,  -2,  -1,   0,   1,\n",
       "          2,   3],\n",
       "       [-12, -11, -10,  -9,  -8,  -7,  -6,  -5,  -4,  -3,  -2,  -1,   0,\n",
       "          1,   2],\n",
       "       [-13, -12, -11, -10,  -9,  -8,  -7,  -6,  -5,  -4,  -3,  -2,  -1,\n",
       "          0,   1],\n",
       "       [-14, -13, -12, -11, -10,  -9,  -8,  -7,  -6,  -5,  -4,  -3,  -2,\n",
       "         -1,   0]])"
      ]
     },
     "execution_count": 44,
     "metadata": {},
     "output_type": "execute_result"
    }
   ],
   "source": [
    "mask_p2 = cols - rows\n",
    "mask_p2"
   ]
  },
  {
   "cell_type": "code",
   "execution_count": 45,
   "id": "91b7ba49",
   "metadata": {},
   "outputs": [
    {
     "data": {
      "text/plain": [
       "array([[  0,  -1,  -2,  -3,  -4,  -5,  -6,  -7,  -8,  -9, -10, -11, -12,\n",
       "        -13, -14],\n",
       "       [  1,   0,  -1,  -2,  -3,  -4,  -5,  -6,  -7,  -8,  -9, -10, -11,\n",
       "        -12, -13],\n",
       "       [  2,   1,   0,  -1,  -2,  -3,  -4,  -5,  -6,  -7,  -8,  -9, -10,\n",
       "        -11, -12],\n",
       "       [  3,   2,   1,   0,  -1,  -2,  -3,  -4,  -5,  -6,  -7,  -8,  -9,\n",
       "        -10, -11],\n",
       "       [  4,   3,   2,   1,   0,  -1,  -2,  -3,  -4,  -5,  -6,  -7,  -8,\n",
       "         -9, -10],\n",
       "       [  5,   4,   3,   2,   1,   0,  -1,  -2,  -3,  -4,  -5,  -6,  -7,\n",
       "         -8,  -9],\n",
       "       [  6,   5,   4,   3,   2,   1,   0,  -1,  -2,  -3,  -4,  -5,  -6,\n",
       "         -7,  -8],\n",
       "       [  7,   6,   5,   4,   3,   2,   1,   0,  -1,  -2,  -3,  -4,  -5,\n",
       "         -6,  -7],\n",
       "       [  8,   7,   6,   5,   4,   3,   2,   1,   0,  -1,  -2,  -3,  -4,\n",
       "         -5,  -6],\n",
       "       [  9,   8,   7,   6,   5,   4,   3,   2,   1,   0,  -1,  -2,  -3,\n",
       "         -4,  -5],\n",
       "       [ 10,   9,   8,   7,   6,   5,   4,   3,   2,   1,   0,  -1,  -2,\n",
       "         -3,  -4],\n",
       "       [ 11,  10,   9,   8,   7,   6,   5,   4,   3,   2,   1,   0,  -1,\n",
       "         -2,  -3],\n",
       "       [ 12,  11,  10,   9,   8,   7,   6,   5,   4,   3,   2,   1,   0,\n",
       "         -1,  -2],\n",
       "       [ 13,  12,  11,  10,   9,   8,   7,   6,   5,   4,   3,   2,   1,\n",
       "          0,  -1],\n",
       "       [ 14,  13,  12,  11,  10,   9,   8,   7,   6,   5,   4,   3,   2,\n",
       "          1,   0]])"
      ]
     },
     "execution_count": 45,
     "metadata": {},
     "output_type": "execute_result"
    }
   ],
   "source": [
    "mask_p1 = - mask_p2\n",
    "mask_p1"
   ]
  },
  {
   "cell_type": "code",
   "execution_count": 52,
   "id": "da657b94",
   "metadata": {},
   "outputs": [],
   "source": [
    "def n_handicap_odd(probs, n: float, margin=0.05):\n",
    "    \n",
    "    payout_ratio = 1 - margin\n",
    "    \n",
    "    p1_more_n = probs[mask_p1 > n].sum()\n",
    "    p1_less_n = probs[(mask_p1 < n) & (mask_p1 > 0)].sum()\n",
    "    \n",
    "    p2_more_n = probs[mask_p2 > n].sum()\n",
    "    p2_less_n = probs[(mask_p2 < n) & (mask_p2 > 0)].sum()\n",
    "    \n",
    "    print(p1_less_n, p2_less_n, p1_more_n, p2_more_n, p1_less_n + p2_less_n + p1_more_n + p2_more_n)\n",
    "    \n",
    "    return {\n",
    "        'Odd p1 has n more points': payout_ratio / p1_more_n,\n",
    "        'Odd p1 has n less points': payout_ratio / p1_less_n,\n",
    "        'Odd p2 has n more points': payout_ratio / p2_more_n,\n",
    "        'Odd p2 has n less points': payout_ratio / p2_less_n     \n",
    "    }\n",
    "    "
   ]
  },
  {
   "cell_type": "code",
   "execution_count": 53,
   "id": "d53b45c7",
   "metadata": {},
   "outputs": [
    {
     "name": "stdout",
     "output_type": "stream",
     "text": [
      "0.042409 0.07831199999999999 0.321586 0.557693 1.0\n"
     ]
    },
    {
     "data": {
      "text/plain": [
       "{'Odd p1 has n more points': 2.954108698761762,\n",
       " 'Odd p1 has n less points': 22.400905468178923,\n",
       " 'Odd p2 has n more points': 1.703446161239248,\n",
       " 'Odd p2 has n less points': 12.13096332618245}"
      ]
     },
     "execution_count": 53,
     "metadata": {},
     "output_type": "execute_result"
    }
   ],
   "source": [
    "n_handicap_odd(probs, n = 3.5)"
   ]
  },
  {
   "cell_type": "code",
   "execution_count": null,
   "id": "26099c76",
   "metadata": {},
   "outputs": [],
   "source": []
  }
 ],
 "metadata": {
  "kernelspec": {
   "display_name": "Python 3 (ipykernel)",
   "language": "python",
   "name": "python3"
  },
  "language_info": {
   "codemirror_mode": {
    "name": "ipython",
    "version": 3
   },
   "file_extension": ".py",
   "mimetype": "text/x-python",
   "name": "python",
   "nbconvert_exporter": "python",
   "pygments_lexer": "ipython3",
   "version": "3.10.7"
  }
 },
 "nbformat": 4,
 "nbformat_minor": 5
}
